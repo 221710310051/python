{
 "cells": [
  {
   "cell_type": "markdown",
   "metadata": {},
   "source": [
    "# control structures\n",
    "# for,while loops\n",
    "# for var in sequence/object:\n",
    "     statements\n",
    "# or\n",
    "# for var in range(start,stop,step):\n",
    "     statements\n",
    "## while condition:\n",
    "      statements\n",
    "\n"
   ]
  },
  {
   "cell_type": "code",
   "execution_count": 3,
   "metadata": {},
   "outputs": [
    {
     "name": "stdout",
     "output_type": "stream",
     "text": [
      "enter the no of values5\n",
      "1 2 3 4 5 "
     ]
    }
   ],
   "source": [
    "n=int(input(\"enter the no of values\"))\n",
    "for i in range(1,n+1):\n",
    "    print(i,end=\" \")"
   ]
  },
  {
   "cell_type": "code",
   "execution_count": 6,
   "metadata": {},
   "outputs": [
    {
     "name": "stdout",
     "output_type": "stream",
     "text": [
      "0 1 2 3 4 5 \n",
      "1 2 3 4 5 \n",
      "1 3 5 7 9 "
     ]
    }
   ],
   "source": [
    "for i in range(6):# 6 is stop\n",
    "    print(i,end=\" \")\n",
    "print()\n",
    "for i in range(1,6):# 1 is start , 6 is stop\n",
    "    print(i,end=\" \")\n",
    "print()\n",
    "for i in range(1,10,2):## 2 is increment(step)\n",
    "    print(i,end=\" \")\n"
   ]
  },
  {
   "cell_type": "code",
   "execution_count": 10,
   "metadata": {},
   "outputs": [
    {
     "name": "stdout",
     "output_type": "stream",
     "text": [
      " 5\n",
      "15\n"
     ]
    }
   ],
   "source": [
    "n=int(input(\" \"))\n",
    "sum=0\n",
    "for i in range(1,n+1):\n",
    "    sum=sum+i\n",
    "print(sum)"
   ]
  },
  {
   "cell_type": "code",
   "execution_count": 17,
   "metadata": {},
   "outputs": [
    {
     "name": "stdout",
     "output_type": "stream",
     "text": [
      "i n d i a n \n",
      "i n d i a n "
     ]
    }
   ],
   "source": [
    "str1=\"indian\"\n",
    "for i in range(len(str1)):\n",
    "    print(str1[i],end=\" \")\n",
    "print()\n",
    "for i in str1:\n",
    "    print(i,end=\" \")\n"
   ]
  },
  {
   "cell_type": "code",
   "execution_count": 19,
   "metadata": {},
   "outputs": [
    {
     "name": "stdout",
     "output_type": "stream",
     "text": [
      "12 89 12 54 51 \n",
      "12 89 12 54 51 "
     ]
    }
   ],
   "source": [
    "a=[12,89,12,54,51]\n",
    "for i in a:\n",
    "    print(i,end=\" \")\n",
    "print()\n",
    "for i in range(len(a)):\n",
    "    print(a[i],end=\" \")"
   ]
  },
  {
   "cell_type": "code",
   "execution_count": 22,
   "metadata": {},
   "outputs": [
    {
     "name": "stdout",
     "output_type": "stream",
     "text": [
      " 5\n",
      "1 2 3 4 5 "
     ]
    }
   ],
   "source": [
    "n=int(input(\" \"))\n",
    "i=1\n",
    "while(i<=n):\n",
    "    print(i,end=\" \")\n",
    "    i=i+1"
   ]
  },
  {
   "cell_type": "code",
   "execution_count": 25,
   "metadata": {},
   "outputs": [
    {
     "name": "stdout",
     "output_type": "stream",
     "text": [
      " 123\n",
      "3 2 1 "
     ]
    }
   ],
   "source": [
    "#input:123\n",
    "#output:3 2 1\n",
    "\n",
    "n=int(input(\" \"))\n",
    "while(n!=0):\n",
    "    r=n%10\n",
    "    print(r,end=\" \")\n",
    "    n=n//10"
   ]
  },
  {
   "cell_type": "code",
   "execution_count": 28,
   "metadata": {},
   "outputs": [
    {
     "name": "stdout",
     "output_type": "stream",
     "text": [
      " 1947\n",
      "21\n"
     ]
    }
   ],
   "source": [
    "#input:1947\n",
    "#output:21\n",
    "\n",
    "n=int(input(\" \"))\n",
    "sum=0\n",
    "while(n!=0):\n",
    "    r=n%10\n",
    "    sum=sum+r\n",
    "    n=n//10\n",
    "print(sum)"
   ]
  },
  {
   "cell_type": "code",
   "execution_count": 29,
   "metadata": {},
   "outputs": [
    {
     "name": "stdout",
     "output_type": "stream",
     "text": [
      " 1947\n",
      "7491\n"
     ]
    }
   ],
   "source": [
    "#input:1947\n",
    "#output:7491\n",
    "\n",
    "n=int(input(\" \"))\n",
    "rev=0\n",
    "while(n!=0):\n",
    "    r=n%10\n",
    "    rev=rev*10+r\n",
    "    n=n//10\n",
    "print(rev)"
   ]
  },
  {
   "cell_type": "code",
   "execution_count": 36,
   "metadata": {},
   "outputs": [
    {
     "name": "stdout",
     "output_type": "stream",
     "text": [
      " 121\n",
      "palindrome\n"
     ]
    }
   ],
   "source": [
    "#input:121\n",
    "#output:121\n",
    "\n",
    "n=int(input(\" \"))\n",
    "num=n\n",
    "rev=0\n",
    "while(n!=0):\n",
    "    r=n%10\n",
    "    rev=rev*10+r\n",
    "    n=n//10\n",
    "if(rev==num):\n",
    "    print(\"palindrome\")\n",
    "else:\n",
    "    print(\"not a palindrome\")\n",
    "    "
   ]
  },
  {
   "cell_type": "code",
   "execution_count": 38,
   "metadata": {},
   "outputs": [
    {
     "name": "stdout",
     "output_type": "stream",
     "text": [
      " 1947\n",
      "9\n"
     ]
    }
   ],
   "source": [
    "#find the largest digit of a number\n",
    "#ip:1947\n",
    "#op:9\n",
    "\n",
    "n=int(input(\" \"))\n",
    "max=0\n",
    "while(n!=0):\n",
    "    r=n%10\n",
    "    if(r>max):\n",
    "        max=r\n",
    "    n=n//10\n",
    "print(max)"
   ]
  },
  {
   "cell_type": "code",
   "execution_count": 39,
   "metadata": {},
   "outputs": [
    {
     "name": "stdout",
     "output_type": "stream",
     "text": [
      " 1947\n",
      "1\n"
     ]
    }
   ],
   "source": [
    "n=int(input(\" \"))\n",
    "min=9\n",
    "while(n!=0):\n",
    "    r=n%10\n",
    "    if(r<min):\n",
    "        min=r\n",
    "    n=n//10\n",
    "print(min)"
   ]
  },
  {
   "cell_type": "code",
   "execution_count": 45,
   "metadata": {},
   "outputs": [
    {
     "name": "stdout",
     "output_type": "stream",
     "text": [
      " 5\n",
      "120\n"
     ]
    }
   ],
   "source": [
    "n=int(input(\" \"))\n",
    "fact=1\n",
    "for i in range(1,n+1):\n",
    "    fact=fact*i\n",
    "print(fact)"
   ]
  },
  {
   "cell_type": "code",
   "execution_count": 47,
   "metadata": {},
   "outputs": [
    {
     "name": "stdout",
     "output_type": "stream",
     "text": [
      " 5\n",
      "120\n"
     ]
    }
   ],
   "source": [
    "n=int(input(\" \"))\n",
    "fact=1\n",
    "i=1\n",
    "while(i<=n):\n",
    "    fact=fact*i\n",
    "    i=i+1\n",
    "print(fact)"
   ]
  },
  {
   "cell_type": "markdown",
   "metadata": {},
   "source": [
    "# user defined function\n",
    "# def func_name( <parameters> ):\n",
    "    ## statements\n",
    "    ## return \n",
    "    \n"
   ]
  },
  {
   "cell_type": "code",
   "execution_count": 48,
   "metadata": {},
   "outputs": [
    {
     "name": "stdout",
     "output_type": "stream",
     "text": [
      "30\n"
     ]
    }
   ],
   "source": [
    "# addition of two numbers\n",
    "\n",
    "def add(a,b):# function defination\n",
    "    return a+b\n",
    "print(add(10,20))# function call"
   ]
  },
  {
   "cell_type": "code",
   "execution_count": 51,
   "metadata": {},
   "outputs": [
    {
     "name": "stdout",
     "output_type": "stream",
     "text": [
      "enter the 1st number12\n",
      "enter the 2nd number21\n",
      "33\n"
     ]
    }
   ],
   "source": [
    "def add(a,b):\n",
    "    c=a+b\n",
    "    return c\n",
    "a=int(input(\"enter the 1st number\"))\n",
    "b=int(input(\"enter the 2nd number\"))\n",
    "print(add(a,b))"
   ]
  },
  {
   "cell_type": "code",
   "execution_count": 1,
   "metadata": {},
   "outputs": [
    {
     "name": "stdout",
     "output_type": "stream",
     "text": [
      "enter a number5429\n",
      "6\n"
     ]
    }
   ],
   "source": [
    "def evenDigitSum(n):\n",
    "    sum=0\n",
    "    while(n!=0):\n",
    "        r=n%10\n",
    "        if(r%2==0):\n",
    "            sum=sum+r\n",
    "        n=n//10\n",
    "    return sum\n",
    "n=int(input(\"enter a number\"))\n",
    "print(evenDigitSum(n))\n",
    "    \n",
    "    "
   ]
  },
  {
   "cell_type": "code",
   "execution_count": 11,
   "metadata": {},
   "outputs": [],
   "source": [
    "def factors(n):\n",
    "    i=1\n",
    "    while(i<=n):\n",
    "        if(n%i==0):\n",
    "            print(i,end=\" \")\n",
    "            i=i+1\n",
    "    return \n",
    "    factors(12)\n"
   ]
  },
  {
   "cell_type": "code",
   "execution_count": 8,
   "metadata": {},
   "outputs": [
    {
     "name": "stdout",
     "output_type": "stream",
     "text": [
      " 12\n",
      "1 2 3 4 6 12 "
     ]
    }
   ],
   "source": [
    "def factors(n):\n",
    "    for i in range(1,n+1):\n",
    "        if(n%i==0):\n",
    "            print(i,end=\" \")\n",
    "    return \n",
    "    \n",
    "n=int(input(\" \"))\n",
    "factors(n)"
   ]
  },
  {
   "cell_type": "code",
   "execution_count": 21,
   "metadata": {},
   "outputs": [
    {
     "name": "stdout",
     "output_type": "stream",
     "text": [
      "[1, 6, 7, 8, 3]\n"
     ]
    }
   ],
   "source": [
    "#input:16783\n",
    "# output= [1,6,7,8,3]\n",
    "\n",
    "def numList(n):\n",
    "    a=[]\n",
    "    while(n!=0):\n",
    "        r=n%10\n",
    "        a.append(r)\n",
    "        n=n//10\n",
    "    a.reverse()\n",
    "    return a\n",
    "print(numList(16783))"
   ]
  },
  {
   "cell_type": "code",
   "execution_count": null,
   "metadata": {},
   "outputs": [],
   "source": [
    "#find out given no is prime or not\n",
    "# print 1 to n prime numbers\n",
    "# print first n prime numbers\n",
    "# find out give no is strong number or not(145=1!+4!+5!)\n",
    "# find out given number is nth digit armstrong or not\n",
    "#(153-3) digit armstrong number\n",
    "# 1-- all single digit number\n",
    "#find out given number is perfect or not\n",
    "#6=(1!+2!+3!)\n",
    "# find factorial of given number using function\n",
    "# find the odd digit number of a given number\n",
    "# find the number is palindrome or not using function\n",
    "# find the nCr value using function(n and r input)"
   ]
  },
  {
   "cell_type": "code",
   "execution_count": 17,
   "metadata": {},
   "outputs": [
    {
     "name": "stdout",
     "output_type": "stream",
     "text": [
      "enter a number5\n",
      "not prime\n",
      "not prime\n",
      "not prime\n",
      "prime\n"
     ]
    }
   ],
   "source": [
    "n=int(input(\"enter a number\"))\n",
    "for i in range(2,n+1):\n",
    "    if(n%1==0 and n%i==0):\n",
    "        print(\"prime\")\n",
    "    else:\n",
    "        print(\"not prime\")"
   ]
  }
 ],
 "metadata": {
  "kernelspec": {
   "display_name": "Python 3",
   "language": "python",
   "name": "python3"
  },
  "language_info": {
   "codemirror_mode": {
    "name": "ipython",
    "version": 3
   },
   "file_extension": ".py",
   "mimetype": "text/x-python",
   "name": "python",
   "nbconvert_exporter": "python",
   "pygments_lexer": "ipython3",
   "version": "3.7.3"
  }
 },
 "nbformat": 4,
 "nbformat_minor": 2
}
